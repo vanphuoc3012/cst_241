{
 "cells": [
  {
   "cell_type": "markdown",
   "metadata": {},
   "source": [
    "# Generate a directed graph"
   ]
  },
  {
   "cell_type": "code",
   "execution_count": 3,
   "metadata": {},
   "outputs": [
    {
     "name": "stdout",
     "output_type": "stream",
     "text": [
      "[{'start': 9, 'dest': 0, 'travel_time': 13}, {'start': 7, 'dest': 9, 'travel_time': 0}, {'start': 3, 'dest': 7, 'travel_time': 26}, {'start': 7, 'dest': 4, 'travel_time': 20}, {'start': 2, 'dest': 0, 'travel_time': 16}, {'start': 7, 'dest': 5, 'travel_time': 2}, {'start': 3, 'dest': 5, 'travel_time': 1}, {'start': 6, 'dest': 2, 'travel_time': 19}, {'start': 5, 'dest': 6, 'travel_time': 13}, {'start': 4, 'dest': 10, 'travel_time': 8}, {'start': 7, 'dest': 2, 'travel_time': 21}, {'start': 4, 'dest': 10, 'travel_time': 11}, {'start': 2, 'dest': 7, 'travel_time': 24}, {'start': 3, 'dest': 7, 'travel_time': 19}, {'start': 6, 'dest': 0, 'travel_time': 18}, {'start': 0, 'dest': 3, 'travel_time': 4}, {'start': 3, 'dest': 4, 'travel_time': 17}, {'start': 5, 'dest': 3, 'travel_time': 10}, {'start': 10, 'dest': 8, 'travel_time': 14}, {'start': 6, 'dest': 7, 'travel_time': 2}, {'start': 10, 'dest': 9, 'travel_time': 10}, {'start': 8, 'dest': 2, 'travel_time': 26}, {'start': 3, 'dest': 6, 'travel_time': 7}, {'start': 0, 'dest': 7, 'travel_time': 9}, {'start': 9, 'dest': 10, 'travel_time': 2}, {'start': 8, 'dest': 1, 'travel_time': 4}, {'start': 6, 'dest': 9, 'travel_time': 30}, {'start': 5, 'dest': 9, 'travel_time': 4}, {'start': 1, 'dest': 7, 'travel_time': 5}, {'start': 3, 'dest': 5, 'travel_time': 13}]\n"
     ]
    }
   ],
   "source": [
    "import random\n",
    "#import numpy as np\n",
    "\n",
    "point_num = 10\n",
    "edge_num = 30\n",
    "max_travel_time = 30 # (km)\n",
    "\n",
    "points = []\n",
    "paths = []\n",
    "\n",
    "# fixed seed\n",
    "random.seed(10)\n",
    "\n",
    "# generate edges\n",
    "for i in range(edge_num):\n",
    "    point_1 = random.randint(0, point_num)\n",
    "    point_2 = random.randint(0, point_num)\n",
    "    while(point_1 == point_2):\n",
    "        point_2 = random.randint(0, point_num)    \n",
    "    paths.append({\n",
    "        'start': point_1, \n",
    "        'dest': point_2, \n",
    "        'travel_time': random.randint(0, max_travel_time)\n",
    "        })\n",
    "\n",
    "print(paths)"
   ]
  },
  {
   "cell_type": "markdown",
   "metadata": {},
   "source": [
    "# Algorithm 1: Brute force"
   ]
  },
  {
   "cell_type": "code",
   "execution_count": 4,
   "metadata": {},
   "outputs": [
    {
     "name": "stdout",
     "output_type": "stream",
     "text": [
      "[1, [1, 2, 3, 4]]\n"
     ]
    }
   ],
   "source": [
    "def empty():\n",
    "    return\n",
    "\n",
    "a = [1]\n",
    "a.append([1,2,3,4])\n",
    "print(a)"
   ]
  },
  {
   "cell_type": "code",
   "execution_count": 5,
   "metadata": {},
   "outputs": [
    {
     "name": "stdout",
     "output_type": "stream",
     "text": [
      "{1: 0, 2: 1, 3: -1}\n",
      "{1: 0, 4: 4, 2: -1, 3: -3}\n",
      "{1: 0, 4: 4, 3: 3}\n"
     ]
    }
   ],
   "source": [
    "def getDestList(paths, start, total_time = 0):\n",
    "    destinations = []\n",
    "    for i in range(len(paths)):\n",
    "        if (paths[i]['start'] == start):\n",
    "            destinations.append({\n",
    "                'dest': paths[i]['dest'], \n",
    "                'travel_time': paths[i]['travel_time'], \n",
    "                'total_time': total_time + paths[i]['travel_time'],\n",
    "                'stop': False \n",
    "                })\n",
    "#    print(destinations)\n",
    "    return destinations\n",
    "\n",
    "def bruteForce(paths, start, dest, total_time = 0, history = {}):\n",
    "#    print(history)\n",
    "#    print(start)\n",
    "    if (start in history):\n",
    "#        print('looped')\n",
    "        return []\n",
    "    histories = []\n",
    "    destinations = getDestList(paths, start, total_time)\n",
    "#    print(np.asarray(destinations))\n",
    "    for each_dest in destinations:\n",
    "        new_hist = history.copy()\n",
    "        new_hist.update({start: total_time})\n",
    "        if (dest in new_hist):\n",
    "#            print('reached dest')\n",
    "            return [new_hist]    \n",
    "        histories += bruteForce(paths, each_dest['dest'], dest, each_dest['total_time'], new_hist)\n",
    "        \n",
    "    return histories\n",
    "\n",
    "paths_FloydWarshall_example = [\n",
    "    {'start': 1, 'dest': 2, 'travel_time': 1},\n",
    "    {'start': 1, 'dest': 4, 'travel_time': 4},\n",
    "    {'start': 2, 'dest': 1, 'travel_time': 2},\n",
    "    {'start': 2, 'dest': 3, 'travel_time': -2},\n",
    "    {'start': 3, 'dest': 1, 'travel_time': 3},\n",
    "    {'start': 4, 'dest': 1, 'travel_time': 4},\n",
    "    {'start': 4, 'dest': 2, 'travel_time': -5},\n",
    "    {'start': 4, 'dest': 3, 'travel_time': -1}\n",
    "]\n",
    "\n",
    "print(*bruteForce(paths_FloydWarshall_example, 1, 3), sep='\\n')\n",
    "#print(*bruteForce(paths, 1, 3), sep='\\n')"
   ]
  },
  {
   "cell_type": "code",
   "execution_count": 6,
   "metadata": {},
   "outputs": [
    {
     "name": "stdout",
     "output_type": "stream",
     "text": [
      "[-3, -6, -7, 0]\n",
      "[-3, -6, -7, 0]\n",
      "[-3, -6, -7, 0]\n",
      "[-3, -6, -7, 0]\n"
     ]
    }
   ],
   "source": [
    "def getPath(paths, start, dest):\n",
    "    for i in paths:\n",
    "        if (i['start'] == start) and (i['dest'] == dest):\n",
    "            #print(i)\n",
    "            return i\n",
    "    return None\n",
    "\n",
    "def FloydWarshall(paths):\n",
    "    all_path_time = [[0] * 4] * 4\n",
    "    for k in range(1, 4 + 1):\n",
    "        for i in range(1, 4 + 1):\n",
    "            for j in range(1, 4 + 1):\n",
    "                path_i_j = getPath(paths, i, j)\n",
    "                path_i_k = getPath(paths, i, k)\n",
    "                path_k_j = getPath(paths, k, j)\n",
    "                if (path_i_j != None and path_i_k != None and path_k_j != None):\n",
    "                    #print(i)\n",
    "                    temp = all_path_time[i-1][j-1] + min(\n",
    "                        path_i_j['travel_time'], \n",
    "                        path_i_k['travel_time'] + path_k_j['travel_time']\n",
    "                        )\n",
    "                    all_path_time[i-1][j-1] = min(temp, all_path_time[i-1][j-1])\n",
    "    return all_path_time\n",
    "\n",
    "print(*FloydWarshall(paths_FloydWarshall_example), sep='\\n')"
   ]
  },
  {
   "cell_type": "code",
   "execution_count": 7,
   "metadata": {},
   "outputs": [
    {
     "ename": "ModuleNotFoundError",
     "evalue": "No module named 'requests'",
     "output_type": "error",
     "traceback": [
      "\u001b[1;31m---------------------------------------------------------------------------\u001b[0m",
      "\u001b[1;31mModuleNotFoundError\u001b[0m                       Traceback (most recent call last)",
      "Cell \u001b[1;32mIn[7], line 1\u001b[0m\n\u001b[1;32m----> 1\u001b[0m \u001b[38;5;28;01mimport\u001b[39;00m \u001b[38;5;21;01mrequests\u001b[39;00m\n\u001b[0;32m      3\u001b[0m URL \u001b[38;5;241m=\u001b[39m \u001b[38;5;124m'\u001b[39m\u001b[38;5;124mhttps://api.tomtom.com/traffic/services/4/flowSegmentData/relative0/10/json?point=52.41092\u001b[39m\u001b[38;5;124m%\u001b[39m\u001b[38;5;124m2C4.84239&unit=KMPH&openLr=false&key=AdIZYsAK6AH2VDGDmLqDhLRU8xc4Z86k\u001b[39m\u001b[38;5;124m'\u001b[39m\n\u001b[0;32m      4\u001b[0m lat \u001b[38;5;241m=\u001b[39m \u001b[38;5;124m\"\u001b[39m\u001b[38;5;124m10.7705100\u001b[39m\u001b[38;5;124m\"\u001b[39m\n",
      "\u001b[1;31mModuleNotFoundError\u001b[0m: No module named 'requests'"
     ]
    }
   ],
   "source": [
    "import requests\n",
    "\n",
    "URL = 'https://api.tomtom.com/traffic/services/4/flowSegmentData/relative0/10/json?point=52.41092%2C4.84239&unit=KMPH&openLr=false&key=AdIZYsAK6AH2VDGDmLqDhLRU8xc4Z86k'\n",
    "lat = \"10.7705100\"\n",
    "lon = \"106.6608836\"\n",
    "URL_1 = 'https://api.tomtom.com/traffic/services/4/flowSegmentData/relative0/10/json?point='+ lat + '%2C' + lon +'&unit=KMPH&openLr=false&key=AdIZYsAK6AH2VDGDmLqDhLRU8xc4Z86k'\n",
    "#response = requests.get(\"http://www.google.com\")\n",
    "response = requests.get(URL)\n",
    "print(response.content)\n",
    "print(response.content == response.text)\n",
    "response = requests.get(URL_1)\n",
    "print(response.content)\n",
    "print(response.content == response.text)"
   ]
  }
 ],
 "metadata": {
  "kernelspec": {
   "display_name": "Python 3",
   "language": "python",
   "name": "python3"
  },
  "language_info": {
   "codemirror_mode": {
    "name": "ipython",
    "version": 3
   },
   "file_extension": ".py",
   "mimetype": "text/x-python",
   "name": "python",
   "nbconvert_exporter": "python",
   "pygments_lexer": "ipython3",
   "version": "3.12.1"
  }
 },
 "nbformat": 4,
 "nbformat_minor": 2
}
