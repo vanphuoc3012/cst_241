{
 "cells": [
  {
   "cell_type": "markdown",
   "metadata": {},
   "source": [
    "# Generate a directed graph"
   ]
  },
  {
   "cell_type": "code",
   "execution_count": 1,
   "metadata": {},
   "outputs": [
    {
     "ename": "ModuleNotFoundError",
     "evalue": "No module named 'numpy'",
     "output_type": "error",
     "traceback": [
      "\u001b[1;31m---------------------------------------------------------------------------\u001b[0m",
      "\u001b[1;31mModuleNotFoundError\u001b[0m                       Traceback (most recent call last)",
      "Cell \u001b[1;32mIn[1], line 2\u001b[0m\n\u001b[0;32m      1\u001b[0m \u001b[38;5;28;01mimport\u001b[39;00m \u001b[38;5;21;01mrandom\u001b[39;00m\n\u001b[1;32m----> 2\u001b[0m \u001b[38;5;28;01mimport\u001b[39;00m \u001b[38;5;21;01mnumpy\u001b[39;00m \u001b[38;5;28;01mas\u001b[39;00m \u001b[38;5;21;01mnp\u001b[39;00m\n\u001b[0;32m      4\u001b[0m point_num \u001b[38;5;241m=\u001b[39m \u001b[38;5;241m10\u001b[39m\n\u001b[0;32m      5\u001b[0m edge_num \u001b[38;5;241m=\u001b[39m \u001b[38;5;241m30\u001b[39m\n",
      "\u001b[1;31mModuleNotFoundError\u001b[0m: No module named 'numpy'"
     ]
    }
   ],
   "source": [
    "import random\n",
    "#import numpy as np\n",
    "\n",
    "point_num = 10\n",
    "edge_num = 30\n",
    "max_travel_time = 30 # (km)\n",
    "\n",
    "points = []\n",
    "paths = []\n",
    "\n",
    "# fixed seed\n",
    "random.seed(10)\n",
    "\n",
    "# generate edges\n",
    "for i in range(edge_num):\n",
    "    point_1 = random.randint(0, point_num)\n",
    "    point_2 = random.randint(0, point_num)\n",
    "    while(point_1 == point_2):\n",
    "        point_2 = random.randint(0, point_num)    \n",
    "    paths.append({\n",
    "        'start': point_1, \n",
    "        'dest': point_2, \n",
    "        'travel_time': random.randint(0, max_travel_time)\n",
    "        })\n",
    "\n",
    "print(paths)"
   ]
  },
  {
   "cell_type": "markdown",
   "metadata": {},
   "source": [
    "# Algorithm 1: Brute force"
   ]
  },
  {
   "cell_type": "code",
   "execution_count": 8,
   "metadata": {},
   "outputs": [
    {
     "name": "stdout",
     "output_type": "stream",
     "text": [
      "[1, [1, 2, 3, 4]]\n"
     ]
    }
   ],
   "source": [
    "def empty():\n",
    "    return\n",
    "\n",
    "a = [1]\n",
    "a.append([1,2,3,4])\n",
    "print(a)"
   ]
  },
  {
   "cell_type": "code",
   "execution_count": 9,
   "metadata": {},
   "outputs": [
    {
     "name": "stdout",
     "output_type": "stream",
     "text": [
      "{1: 0, 2: 1, 3: -1}\n",
      "{1: 0, 4: 4, 2: -1, 3: -3}\n",
      "{1: 0, 4: 4, 3: 3}\n"
     ]
    }
   ],
   "source": [
    "def getDestList(paths, start, total_time = 0):\n",
    "    destinations = []\n",
    "    for i in range(len(paths)):\n",
    "        if (paths[i]['start'] == start):\n",
    "            destinations.append({\n",
    "                'dest': paths[i]['dest'], \n",
    "                'travel_time': paths[i]['travel_time'], \n",
    "                'total_time': total_time + paths[i]['travel_time'],\n",
    "                'stop': False \n",
    "                })\n",
    "#    print(destinations)\n",
    "    return destinations\n",
    "\n",
    "def bruteForce(paths, start, dest, total_time = 0, history = {}):\n",
    "#    print(history)\n",
    "#    print(start)\n",
    "    if (start in history):\n",
    "#        print('looped')\n",
    "        return []\n",
    "    histories = []\n",
    "    destinations = getDestList(paths, start, total_time)\n",
    "#    print(np.asarray(destinations))\n",
    "    for each_dest in destinations:\n",
    "        new_hist = history.copy()\n",
    "        new_hist.update({start: total_time})\n",
    "        if (dest in new_hist):\n",
    "#            print('reached dest')\n",
    "            return [new_hist]    \n",
    "        histories += bruteForce(paths, each_dest['dest'], dest, each_dest['total_time'], new_hist)\n",
    "        \n",
    "    return histories\n",
    "\n",
    "paths_FloydWarshall_example = [\n",
    "    {'start': 1, 'dest': 2, 'travel_time': 1},\n",
    "    {'start': 1, 'dest': 4, 'travel_time': 4},\n",
    "    {'start': 2, 'dest': 1, 'travel_time': 2},\n",
    "    {'start': 2, 'dest': 3, 'travel_time': -2},\n",
    "    {'start': 3, 'dest': 1, 'travel_time': 3},\n",
    "    {'start': 4, 'dest': 1, 'travel_time': 4},\n",
    "    {'start': 4, 'dest': 2, 'travel_time': -5},\n",
    "    {'start': 4, 'dest': 3, 'travel_time': -1}\n",
    "]\n",
    "\n",
    "print(*bruteForce(paths_FloydWarshall_example, 1, 3), sep='\\n')\n",
    "#print(*bruteForce(paths, 1, 3), sep='\\n')"
   ]
  },
  {
   "cell_type": "code",
   "execution_count": 10,
   "metadata": {},
   "outputs": [
    {
     "name": "stdout",
     "output_type": "stream",
     "text": [
      "[-3, -6, -7, 0]\n",
      "[-3, -6, -7, 0]\n",
      "[-3, -6, -7, 0]\n",
      "[-3, -6, -7, 0]\n"
     ]
    }
   ],
   "source": [
    "def getPath(paths, start, dest):\n",
    "    for i in paths:\n",
    "        if (i['start'] == start) and (i['dest'] == dest):\n",
    "            #print(i)\n",
    "            return i\n",
    "    return None\n",
    "\n",
    "def FloydWarshall(paths):\n",
    "    all_path_time = [[0] * 4] * 4\n",
    "    for k in range(1, 4 + 1):\n",
    "        for i in range(1, 4 + 1):\n",
    "            for j in range(1, 4 + 1):\n",
    "                path_i_j = getPath(paths, i, j)\n",
    "                path_i_k = getPath(paths, i, k)\n",
    "                path_k_j = getPath(paths, k, j)\n",
    "                if (path_i_j != None and path_i_k != None and path_k_j != None):\n",
    "                    #print(i)\n",
    "                    temp = all_path_time[i-1][j-1] + min(\n",
    "                        path_i_j['travel_time'], \n",
    "                        path_i_k['travel_time'] + path_k_j['travel_time']\n",
    "                        )\n",
    "                    all_path_time[i-1][j-1] = min(temp, all_path_time[i-1][j-1])\n",
    "    return all_path_time\n",
    "\n",
    "print(*FloydWarshall(paths_FloydWarshall_example), sep='\\n')"
   ]
  },
  {
   "cell_type": "code",
   "execution_count": 11,
   "metadata": {},
   "outputs": [
    {
     "name": "stdout",
     "output_type": "stream",
     "text": [
      "b'{\"flowSegmentData\":{\"frc\":\"FRC3\",\"currentSpeed\":62,\"freeFlowSpeed\":62,\"currentTravelTime\":150,\"freeFlowTravelTime\":150,\"confidence\":1,\"roadClosure\":false,\"coordinates\":{\"coordinate\":[{\"latitude\":52.401499471134954,\"longitude\":4.848835725534911},{\"latitude\":52.401592034508184,\"longitude\":4.848637242067753},{\"latitude\":52.401700655589167,\"longitude\":4.848403889883400},{\"latitude\":52.401806565999614,\"longitude\":4.848163832176539},{\"latitude\":52.401970212681483,\"longitude\":4.847813803900010},{\"latitude\":52.402127108367772,\"longitude\":4.847467798937004},{\"latitude\":52.402253166590256,\"longitude\":4.847191531408384},{\"latitude\":52.402347057997787,\"longitude\":4.846991706836747},{\"latitude\":52.402422181207733,\"longitude\":4.846830774295796},{\"latitude\":52.402530800244989,\"longitude\":4.846577305543832},{\"latitude\":52.402709172170447,\"longitude\":4.846178997505035},{\"latitude\":52.402921039033671,\"longitude\":4.845712293136330},{\"latitude\":52.403072612964628,\"longitude\":4.845383722531921},{\"latitude\":52.403252312287783,\"longitude\":4.844981391179601},{\"latitude\":52.403374327404165,\"longitude\":4.844718534696113},{\"latitude\":52.403496393320800,\"longitude\":4.844448972690031},{\"latitude\":52.403610379160916,\"longitude\":4.844191480624517},{\"latitude\":52.403871896031930,\"longitude\":4.843630898940290},{\"latitude\":52.403886623568731,\"longitude\":4.843510199534563},{\"latitude\":52.404020756429070,\"longitude\":4.843205768811345},{\"latitude\":52.404160207125265,\"longitude\":4.842894632565532},{\"latitude\":52.404377487511177,\"longitude\":4.842403788315693},{\"latitude\":52.404464675503576,\"longitude\":4.842206645953070},{\"latitude\":52.405520122341201,\"longitude\":4.839847643123903},{\"latitude\":52.405729316678595,\"longitude\":4.839372892128154},{\"latitude\":52.407138834184082,\"longitude\":4.836228002057453},{\"latitude\":52.407185774714101,\"longitude\":4.836118031487814},{\"latitude\":52.407252810613130,\"longitude\":4.835975874410025},{\"latitude\":52.407582721882967,\"longitude\":4.835248995766790},{\"latitude\":52.407749006045300,\"longitude\":4.834896285281246},{\"latitude\":52.408835308896052,\"longitude\":4.832432676300499},{\"latitude\":52.409369067767130,\"longitude\":4.831233728870586},{\"latitude\":52.409951138284598,\"longitude\":4.829958338483721},{\"latitude\":52.410094609510800,\"longitude\":4.829655248864952},{\"latitude\":52.410271621478216,\"longitude\":4.829302538379409},{\"latitude\":52.410396378186185,\"longitude\":4.829100031598756},{\"latitude\":52.410551914538566,\"longitude\":4.828835834010704},{\"latitude\":52.410647168779427,\"longitude\":4.828658808215664},{\"latitude\":52.410787979019545,\"longitude\":4.828444231494444},{\"latitude\":52.410895248101937,\"longitude\":4.828296709998597},{\"latitude\":52.411141996678722,\"longitude\":4.827984232648276},{\"latitude\":52.411231881126014,\"longitude\":4.827880967601146},{\"latitude\":52.411466561498628,\"longitude\":4.827615428908643},{\"latitude\":52.411667751630027,\"longitude\":4.827408898814468},{\"latitude\":52.411817915051209,\"longitude\":4.827260036214085},{\"latitude\":52.411992261453108,\"longitude\":4.827092398150626},{\"latitude\":52.412205515308543,\"longitude\":4.826908666833049},{\"latitude\":52.412430834193245,\"longitude\":4.826731641038037},{\"latitude\":52.412483137459340,\"longitude\":4.826692749007321},{\"latitude\":52.412674915570946,\"longitude\":4.826547909720489},{\"latitude\":52.412932390817843,\"longitude\":4.826368201716434},{\"latitude\":52.413000798404724,\"longitude\":4.826322604163153},{\"latitude\":52.413075903473214,\"longitude\":4.826286394341452},{\"latitude\":52.413129535264808,\"longitude\":4.826254207833273},{\"latitude\":52.413270337579831,\"longitude\":4.826169718249247},{\"latitude\":52.413462112268405,\"longitude\":4.826071817620203},{\"latitude\":52.413687424733354,\"longitude\":4.825973916991131},{\"latitude\":52.413879197608310,\"longitude\":4.825909543974774},{\"latitude\":52.414079047472214,\"longitude\":4.825851876480954},{\"latitude\":52.414258753087168,\"longitude\":4.825811643345673},{\"latitude\":52.414473325233544,\"longitude\":4.825788844569047},{\"latitude\":52.414576597612303,\"longitude\":4.825779456837495},{\"latitude\":52.414612794012591,\"longitude\":4.825818348868211},{\"latitude\":52.414918570609551,\"longitude\":4.825823713286240},{\"latitude\":52.415064735266178,\"longitude\":4.825842488749402},{\"latitude\":52.415151902135797,\"longitude\":4.825859923107998},{\"latitude\":52.415319538112207,\"longitude\":4.825901497347729},{\"latitude\":52.415414782056445,\"longitude\":4.825925637228863},{\"latitude\":52.415472449787458,\"longitude\":4.825952459319012},{\"latitude\":52.415763445733575,\"longitude\":4.826046336634562},{\"latitude\":52.415882818954380,\"longitude\":4.826097298605845},{\"latitude\":52.416049122949836,\"longitude\":4.826172400458262},{\"latitude\":52.416171153795055,\"longitude\":4.826230067952139},{\"latitude\":52.416307958815302,\"longitude\":4.826298464282019},{\"latitude\":52.416397781611622,\"longitude\":4.826333332999212},{\"latitude\":52.416514494738415,\"longitude\":4.826372225029957},{\"latitude\":52.416609684979285,\"longitude\":4.826400388224613},{\"latitude\":52.416687493390924,\"longitude\":4.826415140374195},{\"latitude\":52.416920815557717,\"longitude\":4.826454032404911},{\"latitude\":52.416935589860216,\"longitude\":4.826519746525832},{\"latitude\":52.416958390331132,\"longitude\":4.826584119542190},{\"latitude\":52.416986558609665,\"longitude\":4.826643128140518},{\"latitude\":52.417020094685483,\"longitude\":4.826691407902814},{\"latitude\":52.417058947424387,\"longitude\":4.826731641038037},{\"latitude\":52.417100560714644,\"longitude\":4.826761145337201},{\"latitude\":52.417146161474122,\"longitude\":4.826779920800305},{\"latitude\":52.417175658801241,\"longitude\":4.826785285218335},{\"latitude\":52.417209194733253,\"longitude\":4.826782603009320},{\"latitude\":52.417234653396342,\"longitude\":4.826778579695798},{\"latitude\":52.417277595686286,\"longitude\":4.826761145337201},{\"latitude\":52.417378152051619,\"longitude\":4.826903302415019},{\"latitude\":52.417419713919081,\"longitude\":4.826952923281794},{\"latitude\":52.417455959107293,\"longitude\":4.826983768685466},{\"latitude\":52.417502888657936,\"longitude\":4.827005226357585},{\"latitude\":52.417561882815235,\"longitude\":4.827015955193644},{\"latitude\":52.417623586325114,\"longitude\":4.827019978507167},{\"latitude\":52.417768412865414,\"longitude\":4.826999861939555},{\"latitude\":52.417836812950981,\"longitude\":4.826914031251079},{\"latitude\":52.417953471148103,\"longitude\":4.826903302415019}]},\"@version\":\"traffic-service-flow 1.0.118\"}}'\n",
      "False\n",
      "b'{\"flowSegmentData\":{\"frc\":\"FRC4\",\"currentSpeed\":24,\"freeFlowSpeed\":31,\"currentTravelTime\":313,\"freeFlowTravelTime\":242,\"confidence\":1,\"roadClosure\":false,\"coordinates\":{\"coordinate\":[{\"latitude\":10.770356686827553,\"longitude\":106.658093763202885},{\"latitude\":10.770370108651695,\"longitude\":106.658174229473389},{\"latitude\":10.771957996801659,\"longitude\":106.659956557364183},{\"latitude\":10.772310667566854,\"longitude\":106.660345477671456},{\"latitude\":10.772474280970942,\"longitude\":106.660529208989033},{\"latitude\":10.772632542065361,\"longitude\":106.660655272812733},{\"latitude\":10.772694216111345,\"longitude\":106.660703552575001},{\"latitude\":10.773595446223981,\"longitude\":106.661418361277640},{\"latitude\":10.773764411130740,\"longitude\":106.661549789519427},{\"latitude\":10.773885123817960,\"longitude\":106.661642325730440},{\"latitude\":10.774011188653162,\"longitude\":106.661741567464048},{\"latitude\":10.774375961197071,\"longitude\":106.662020517201597},{\"latitude\":10.774472547622869,\"longitude\":106.662098301263086},{\"latitude\":10.774554312578013,\"longitude\":106.662159992070428},{\"latitude\":10.774811876158651,\"longitude\":106.662354452224065},{\"latitude\":10.775047866125776,\"longitude\":106.662535501332627},{\"latitude\":10.775428776268633,\"longitude\":106.662826521010800},{\"latitude\":10.775743895471257,\"longitude\":106.663066578717689},{\"latitude\":10.775887415814054,\"longitude\":106.663179231496315},{\"latitude\":10.776181125906422,\"longitude\":106.663404537053623},{\"latitude\":10.776296485469015,\"longitude\":106.663491708846664},{\"latitude\":10.776437288301342,\"longitude\":106.663611067147826},{\"latitude\":10.776583443218493,\"longitude\":106.663780046315821},{\"latitude\":10.776862413646429,\"longitude\":106.664159578891542},{\"latitude\":10.777157440237403,\"longitude\":106.664553863616788},{\"latitude\":10.777266047497406,\"longitude\":106.664682609649560},{\"latitude\":10.777444397166153,\"longitude\":106.664905232997796},{\"latitude\":10.777571860299551,\"longitude\":106.665083599897343},{\"latitude\":10.777581247117311,\"longitude\":106.665154678436295},{\"latitude\":10.777617476937477,\"longitude\":106.665201617094056},{\"latitude\":10.777814600019285,\"longitude\":106.665459109159485},{\"latitude\":10.777889694492666,\"longitude\":106.665558350893093},{\"latitude\":10.777978210432277,\"longitude\":106.665677709194313},{\"latitude\":10.778105590999264,\"longitude\":106.665850711675830},{\"latitude\":10.778206210904806,\"longitude\":106.665983481022067},{\"latitude\":10.778281305280480,\"longitude\":106.666018349739261},{\"latitude\":10.778310783111417,\"longitude\":106.666057241769977},{\"latitude\":10.778392629364351,\"longitude\":106.666167212339587},{\"latitude\":10.778592386825736,\"longitude\":106.666436774345698},{\"latitude\":10.779061808104194,\"longitude\":106.667045635792249},{\"latitude\":10.779375606063180,\"longitude\":106.667454672667077},{\"latitude\":10.779745806540832,\"longitude\":106.667957586857483},{\"latitude\":10.779867834267559,\"longitude\":106.668122542711956},{\"latitude\":10.780115924223315,\"longitude\":106.668441725584785},{\"latitude\":10.780498145387735,\"longitude\":106.668932569834624},{\"latitude\":10.780545079017314,\"longitude\":106.668998283955489},{\"latitude\":10.780880366066702,\"longitude\":106.669436825129537},{\"latitude\":10.781073452373294,\"longitude\":106.669706387135591},{\"latitude\":10.781141876531544,\"longitude\":106.669792217824124},{\"latitude\":10.781587086047571,\"longitude\":106.670387668225544},{\"latitude\":10.781841926411758,\"longitude\":106.670722944352462},{\"latitude\":10.781937110673345,\"longitude\":106.670847667071712},{\"latitude\":10.782091332168216,\"longitude\":106.671055538270423},{\"latitude\":10.782151686848083,\"longitude\":106.671130640122840},{\"latitude\":10.782202654842543,\"longitude\":106.671197695348212},{\"latitude\":10.782552678752181,\"longitude\":106.671661717507902},{\"latitude\":10.782595577443759,\"longitude\":106.671716702792764},{\"latitude\":10.782914806094574,\"longitude\":106.672141832921682}]},\"@version\":\"traffic-service-flow 1.0.118\"}}'\n",
      "False\n"
     ]
    }
   ],
   "source": [
    "import requests\n",
    "\n",
    "URL = 'https://api.tomtom.com/traffic/services/4/flowSegmentData/relative0/10/json?point=52.41092%2C4.84239&unit=KMPH&openLr=false&key=AdIZYsAK6AH2VDGDmLqDhLRU8xc4Z86k'\n",
    "lat = \"10.7705100\"\n",
    "lon = \"106.6608836\"\n",
    "URL_1 = 'https://api.tomtom.com/traffic/services/4/flowSegmentData/relative0/10/json?point='+ lat + '%2C' + lon +'&unit=KMPH&openLr=false&key=AdIZYsAK6AH2VDGDmLqDhLRU8xc4Z86k'\n",
    "#response = requests.get(\"http://www.google.com\")\n",
    "response = requests.get(URL)\n",
    "print(response.content)\n",
    "print(response.content == response.text)\n",
    "response = requests.get(URL_1)\n",
    "print(response.content)\n",
    "print(response.content == response.text)"
   ]
  }
 ],
 "metadata": {
  "kernelspec": {
   "display_name": "Python 3",
   "language": "python",
   "name": "python3"
  },
  "language_info": {
   "codemirror_mode": {
    "name": "ipython",
    "version": 3
   },
   "file_extension": ".py",
   "mimetype": "text/x-python",
   "name": "python",
   "nbconvert_exporter": "python",
   "pygments_lexer": "ipython3",
   "version": "3.13.0"
  }
 },
 "nbformat": 4,
 "nbformat_minor": 2
}
